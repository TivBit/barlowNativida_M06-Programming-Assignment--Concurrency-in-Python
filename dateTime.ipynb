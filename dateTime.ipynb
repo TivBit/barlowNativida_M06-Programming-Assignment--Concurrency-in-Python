{
 "cells": [
  {
   "cell_type": "markdown",
   "id": "10638b3d",
   "metadata": {},
   "source": [
    "Created on %(Date: 04 Mar 2023)s\n",
    "\n",
    "@author: %(Tiv Barlow)s\n",
    "Python Version 3.11.1\n",
    "SDEV 220 Spring 2023\n",
    "Assignment: M06 Programming Assignment -Concurrency in Python"
   ]
  },
  {
   "cell_type": "markdown",
   "id": "9789da86",
   "metadata": {},
   "source": [
    "(13.1-13.3)"
   ]
  },
  {
   "cell_type": "code",
   "execution_count": 9,
   "id": "c686aef1",
   "metadata": {},
   "outputs": [
    {
     "name": "stdout",
     "output_type": "stream",
     "text": [
      "2023-03-04\n",
      "\n"
     ]
    }
   ],
   "source": [
    "#13.1 Write the current date as a string to the text file today.txt.\n",
    "from datetime import date\n",
    "\n",
    "now = date.today()\n",
    "now_str = now.isoformat()\n",
    "\n",
    "with open('today.txt', 'wt') as output:\n",
    "     print(now_str, file=output)\n",
    "\n",
    "#13.2 Read the text file today.txt into the string today_string.\n",
    "with open('today.txt', 'rt') as input:\n",
    "    \n",
    "\n",
    "#13.3 Parse the date from today_string.\n",
    "    today_string = input.read()\n",
    "   \n",
    "    fmt = '%Y-%m-%d\\n'\n",
    "    now.isoformat()\n",
    "    print(today_string)"
   ]
  },
  {
   "cell_type": "markdown",
   "id": "a525361e",
   "metadata": {},
   "source": [
    "15.1"
   ]
  },
  {
   "cell_type": "code",
   "execution_count": 11,
   "id": "5525febf",
   "metadata": {},
   "outputs": [
    {
     "name": "stdout",
     "output_type": "stream",
     "text": [
      "Wait...Wait... 0.3219264937775106 the time is 2023-03-04 16:21:28.710709\n",
      "\n",
      " 0.724322571977461 the time is 2023-03-04 16:21:28.657721\n",
      "\n",
      "Wait... 0.9651074190798471 the time is 2023-03-04 16:21:28.717709\n",
      "\n",
      "---------------ALL DONE ---------------\n"
     ]
    }
   ],
   "source": [
    "import threading\n",
    "\n",
    "def now(x):\n",
    "    from datetime import datetime\n",
    "    from time import time\n",
    "    time()\n",
    "    print('Wait...', x, \"the time is\", datetime.utcnow())\n",
    "    print()\n",
    "\n",
    "if __name__ == '__main__':\n",
    "    import random\n",
    "    for n in range(3):\n",
    "        seconds = random.random()\n",
    "        proc = threading.Thread(target=now, args=(seconds,))\n",
    "        proc.start()\n",
    "\n",
    "print(\"---------------ALL DONE ---------------\")"
   ]
  }
 ],
 "metadata": {
  "kernelspec": {
   "display_name": "Python 3 (ipykernel)",
   "language": "python",
   "name": "python3"
  },
  "language_info": {
   "codemirror_mode": {
    "name": "ipython",
    "version": 3
   },
   "file_extension": ".py",
   "mimetype": "text/x-python",
   "name": "python",
   "nbconvert_exporter": "python",
   "pygments_lexer": "ipython3",
   "version": "3.11.1"
  }
 },
 "nbformat": 4,
 "nbformat_minor": 5
}
